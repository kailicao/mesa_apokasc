{
 "cells": [
  {
   "cell_type": "code",
   "execution_count": 1,
   "metadata": {},
   "outputs": [],
   "source": [
    "%matplotlib inline\n",
    "import matplotlib as mpl\n",
    "import matplotlib.pyplot as plt\n",
    "from matplotlib import rcParams\n",
    "rcParams.update({'font.family': 'serif', 'mathtext.fontset': 'dejavuserif',\n",
    "                 'font.size': 12, 'text.latex.preamble': r\"\\usepackage{amsmath}\",\n",
    "                 'xtick.major.pad': 2, 'ytick.major.pad': 2, 'xtick.major.size': 6, 'ytick.major.size': 6,\n",
    "                 'xtick.minor.size': 3, 'ytick.minor.size': 3, 'axes.linewidth': 2, 'axes.labelpad': 1})\n",
    "\n",
    "# from common.Tools\n",
    "def format_axis(ax: mpl.axes._axes.Axes) -> None:\n",
    "    ax.minorticks_on(); ax.grid(visible=True, which='major', linestyle=':')\n",
    "    ax.tick_params(axis='both', which='both', direction='out')\n",
    "    ax.xaxis.set_ticks_position('both')\n",
    "    ax.yaxis.set_ticks_position('both')\n",
    "    ax.patch.set_alpha(0.0)"
   ]
  },
  {
   "cell_type": "code",
   "execution_count": 2,
   "metadata": {},
   "outputs": [],
   "source": [
    "import pandas as pd\n",
    "import numpy as np\n",
    "from astropy import constants as const, units as u\n",
    "from scipy.optimize import curve_fit, fsolve"
   ]
  },
  {
   "cell_type": "code",
   "execution_count": 3,
   "metadata": {},
   "outputs": [
    {
     "name": "stdout",
     "output_type": "stream",
     "text": [
      "<class 'pandas.core.frame.DataFrame'>\n",
      "Index: 4997 entries, 893214 to 12885196\n",
      "Data columns (total 17 columns):\n",
      " #   Column       Non-Null Count  Dtype  \n",
      "---  ------       --------------  -----  \n",
      " 0   Mass         4997 non-null   float64\n",
      " 1   S_Mass       4997 non-null   float64\n",
      " 2   Radius       4997 non-null   float64\n",
      " 3   S_Radius     4997 non-null   float64\n",
      " 4   Logg_Seis    4997 non-null   float64\n",
      " 5   S_Logg_Seis  4997 non-null   float64\n",
      " 6   Teff         4997 non-null   float64\n",
      " 7   S_Teff       4997 non-null   float64\n",
      " 8   [Fe/H]       4997 non-null   float64\n",
      " 9   S_[Fe/H]     4997 non-null   float64\n",
      " 10  [Alp/Fe]     4997 non-null   float64\n",
      " 11  S_[Alp/Fe]   4997 non-null   float64\n",
      " 12  [C/Fe]       4997 non-null   float64\n",
      " 13  S_[C/Fe]     4997 non-null   float64\n",
      " 14  [N/Fe]       4997 non-null   float64\n",
      " 15  S_[N/Fe]     4997 non-null   float64\n",
      " 16  Alpha_Cat    4995 non-null   object \n",
      "dtypes: float64(16), object(1)\n",
      "memory usage: 702.7+ KB\n"
     ]
    }
   ],
   "source": [
    "COLUMNS = ['KIC', 'Mass', 'S_Mass', 'Radius', 'S_Radius', 'Logg_Seis', 'S_Logg_Seis', 'Teff', 'S_Teff',\n",
    "           '[Fe/H]', 'S_[Fe/H]', '[Alp/Fe]', 'S_[Alp/Fe]', '[C/Fe]', 'S_[C/Fe]', '[N/Fe]', 'S_[N/Fe]', 'Alpha_Cat']\n",
    "\n",
    "df = pd.read_table('Table4.data', sep='\\s+', low_memory=False)\n",
    "df = df[((df['Evol_State'] == 'RGB') | (df['Evol_State'] == 'RGB_AGB')) & (df['Cat_Tab'] == 'Gold')]\n",
    "df = df[(df['Mass'] > -9999.0) & (df['Radius'] > -9999.0)]  # filter out bad values\n",
    "\n",
    "# df['Mass'] /= df['F_Numax']\n",
    "df = df[COLUMNS]\n",
    "df.set_index('KIC', inplace=True)\n",
    "df.info(verbose=True)"
   ]
  },
  {
   "cell_type": "code",
   "execution_count": 4,
   "metadata": {},
   "outputs": [
    {
     "name": "stdout",
     "output_type": "stream",
     "text": [
      "Mass: 0.5193, 3.2319\n",
      "S_Mass: 0.0217, 0.1775\n",
      "Radius: 3.893, 52.9843\n",
      "S_Radius: 0.0664, 0.9545\n",
      "Logg_Seis: 1.278, 3.258\n",
      "S_Logg_Seis: 0.0035, 0.0128\n",
      "Teff: 3892.5522, 5259.778\n",
      "S_Teff: 32.9835, 176.1391\n",
      "[Fe/H]: -9999.0, 0.5205\n",
      "S_[Fe/H]: 0.058, 0.058\n",
      "[Alp/Fe]: -9999.0, 0.3728\n",
      "S_[Alp/Fe]: 0.022, 0.1873\n",
      "[C/Fe]: -9999.0, 0.3404\n",
      "S_[C/Fe]: -9999.0, 0.491\n",
      "[N/Fe]: -9999.99, 1.5659\n",
      "S_[N/Fe]: -9999.0, 5.9129\n"
     ]
    }
   ],
   "source": [
    "for col in COLUMNS:\n",
    "    if col in ['KIC', 'Alpha_Cat']: continue\n",
    "    print(f'{col}: {df[col].min()}, {df[col].max()}')"
   ]
  },
  {
   "cell_type": "markdown",
   "metadata": {},
   "source": [
    "# Sample Selection Visualization"
   ]
  },
  {
   "cell_type": "code",
   "execution_count": 5,
   "metadata": {},
   "outputs": [],
   "source": [
    "fig, axs = plt.subplots(3, 1, figsize=(5.6, 9.6))  # (6.4, 9.6), 12/15/2024\n",
    "\n",
    "# Step 1: Select alpha-poor stars.\n",
    "ax = axs[0]\n",
    "n0 = len(df)  # Number of Gold RGB stars.\n",
    "\n",
    "cmap = mpl.colormaps['cool_r']\n",
    "norm = mpl.colors.Normalize(vmin=0.9, vmax=1.8)  # 12/19/2024\n",
    "ax.scatter(df['[Fe/H]'], df['[Alp/Fe]'], s=5, c=cmap(norm(df['Mass'])), alpha=0.5)  # , rasterized=True)\n",
    "fig.colorbar(mpl.cm.ScalarMappable(norm=norm, cmap=cmap),\n",
    "             ax=ax, orientation='vertical', label='$M/\\mathrm{{M}}_{{\\odot}}$')\n",
    "\n",
    "df = df[df['Alpha_Cat'] == 'Apoor']\n",
    "df.drop(columns='Alpha_Cat', inplace=True)\n",
    "n1 = len(df)  # Number of alpha-poor stars.\n",
    "\n",
    "ax.plot([-0.9, -0.4, 0.2, 0.5], [0.14, 0.14, 0.05, 0.05], 'r--', lw=1.5)\n",
    "ax.set_xlim(-0.9, 0.5)\n",
    "ax.set_ylim(-0.05, 0.35)\n",
    "\n",
    "ax.set_xlabel(r'$[{\\rm Fe}/{\\rm H}]$')\n",
    "ax.set_ylabel(r'$[\\alpha/{\\rm Fe}]$')\n",
    "ax.set_title(rf'${n0}$ Gold RGB stars $\\Rightarrow$ ${n1}$ $\\alpha$-poor stars')\n",
    "format_axis(ax)"
   ]
  },
  {
   "cell_type": "code",
   "execution_count": 6,
   "metadata": {},
   "outputs": [],
   "source": [
    "# Derive mass percentiles. (12/22/2024)\n",
    "\n",
    "FeH_fine = np.linspace(-0.45, 0.45, 181)\n",
    "pct_5th = np.zeros_like(FeH_fine)\n",
    "pct_95th = np.zeros_like(FeH_fine)\n",
    "\n",
    "for i, FeH in enumerate(FeH_fine):\n",
    "    df_FeH = df[(df['Mass'].between(0.9, 1.8)) &\n",
    "                (df['[Fe/H]'] > max(FeH - 0.1, -0.45)) &\n",
    "                (df['[Fe/H]'] < min(FeH + 0.1, 0.45))]\n",
    "    pct_5th[i] = np.percentile(df_FeH['Mass'], 5)\n",
    "    pct_95th[i] = np.percentile(df_FeH['Mass'], 95)"
   ]
  },
  {
   "cell_type": "code",
   "execution_count": 7,
   "metadata": {},
   "outputs": [],
   "source": [
    "# from scipy.signal import savgol_filter\n",
    "# pct_5th = savgol_filter(pct_5th, window_length=11, polyorder=2)\n",
    "# pct_95th = savgol_filter(pct_95th, window_length=11, polyorder=2)\n",
    "\n",
    "with open('Table4_mass_percentiles.npz', 'wb') as f:\n",
    "    np.savez(f, FeH_fine=FeH_fine, pct_5th=pct_5th, pct_95th=pct_95th)\n",
    "\n",
    "# f = np.load('Table4_mass_percentiles.npz')\n",
    "# FeH_fine, pct_5th, pct_95th = f['FeH_fine'], f['pct_5th'], f['pct_95th']"
   ]
  },
  {
   "cell_type": "code",
   "execution_count": 8,
   "metadata": {},
   "outputs": [],
   "source": [
    "# Step 2: Apply mass and metallicity cuts.\n",
    "# fig, ax = plt.subplots(figsize=(6.4, 4.8))\n",
    "ax = axs[1]\n",
    "\n",
    "cmap = mpl.colormaps['Wistia']\n",
    "norm = mpl.colors.Normalize(vmin=-0.05, vmax=0.15)\n",
    "ax.scatter(df['Mass'], df['[Fe/H]'], s=5, c=cmap(norm(df['[Alp/Fe]'])), alpha=0.5)  # , rasterized=True)\n",
    "fig.colorbar(mpl.cm.ScalarMappable(norm=norm, cmap=cmap),\n",
    "             ax=ax, orientation='vertical', label=r'$[\\alpha/{\\rm Fe}]$')\n",
    "\n",
    "for Mass in [0.90, 1.80]: ax.axvline(Mass, color='b', ls='--', lw=1.5)\n",
    "for FeH in [-0.45, 0.45]: ax.axhline(FeH, color='b', ls='--', lw=1.5)\n",
    "ax.plot(pct_5th, FeH_fine, 'g:', lw=1.5)\n",
    "ax.plot(pct_95th, FeH_fine, 'g:', lw=1.5)\n",
    "ax.set_xlim(0.7, 2.0)\n",
    "ax.set_ylim(-0.5, 0.5)\n",
    "\n",
    "df = df[(df['Mass'] > 0.90) & (df['Mass'] < 1.80) & (df['[Fe/H]'] > -0.45) & (df['[Fe/H]'] < 0.45)]\n",
    "n2 = len(df)  # Number of stars within mass and metallicity ranges.\n",
    "\n",
    "ax.set_xlabel('$M/\\mathrm{{M}}_{{\\odot}}$')\n",
    "ax.set_ylabel(r'$[{\\rm Fe}/{\\rm H}]$')\n",
    "ax.set_title(rf'$\\Rightarrow$ ${n2}$ stars within $M$ and $[{{\\rm Fe}}/{{\\rm H}}]$ ranges')\n",
    "format_axis(ax)"
   ]
  },
  {
   "cell_type": "code",
   "execution_count": 9,
   "metadata": {},
   "outputs": [],
   "source": [
    "# Step 3: Select stars for RGB calibration.\n",
    "# fig, ax = plt.subplots(figsize=(6.4, 4.8))\n",
    "ax = axs[2]\n",
    "n3 = np.count_nonzero(df['Teff'] + df['Logg_Seis'] * 1000 > 7500)  # Number of stars for RGB calibration.\n",
    "\n",
    "cmap = mpl.colormaps['winter']\n",
    "norm = mpl.colors.Normalize(vmin=-0.45, vmax=0.45)\n",
    "ax.scatter(df['Teff'], df['Logg_Seis'], s=5, c=cmap(norm(df['[Fe/H]'])), alpha=0.5)  # , rasterized=True)\n",
    "fig.colorbar(mpl.cm.ScalarMappable(norm=norm, cmap=cmap),\n",
    "             ax=ax, orientation='vertical', label='[Fe/H]')\n",
    "\n",
    "ax.plot([4000, 5500], [3.5, 2.0], 'r--', lw=1.5)\n",
    "ax.set_xlim(5200, 3800)\n",
    "ax.set_ylim(3.3, 1.3)\n",
    "\n",
    "ax.set_xlabel(r'$T_{\\rm eff}$ [K]')\n",
    "ax.set_ylabel(r'$\\log g$ [cm s$^{-2}$]')\n",
    "ax.set_title(rf'$\\Rightarrow$ ${n3}$ lower RGB stars (below RGBB)')  # 12/19/2024\n",
    "format_axis(ax)\n",
    "\n",
    "fig.tight_layout()\n",
    "fig.savefig('selection.pdf', bbox_inches='tight')\n",
    "plt.close()\n",
    "# plt.show()"
   ]
  },
  {
   "cell_type": "markdown",
   "metadata": {},
   "source": [
    "# Correlated C and N errors"
   ]
  },
  {
   "cell_type": "code",
   "execution_count": 10,
   "metadata": {},
   "outputs": [],
   "source": [
    "# Directly from 2024.10.16 APOKASC3_Table4_explorer.ipynb\n",
    "# From 2023.11.28 APOKASC3_FDU_and_RGBB.ipynb.\n",
    "\n",
    "def model(x, a, b1, b2, c1, c2, d):\n",
    "    '''\n",
    "    [*/*] = A + B1 (M-1) + B2 (M-1)^2 + C1 [Fe/H] + C2 [Fe/H]^2 + D (M-1) [Fe/H]\n",
    "\n",
    "    '''\n",
    "\n",
    "    return a + b1*(x[0]-1.0) + b2*(x[0]-1.0)**2 + c1*x[1] + c2*x[1]**2 + d*(x[0]-1.0)*x[1]"
   ]
  },
  {
   "cell_type": "code",
   "execution_count": 11,
   "metadata": {},
   "outputs": [],
   "source": [
    "# From 2023.11.28 APOKASC3_FDU_and_RGBB.ipynb, customized.\n",
    "\n",
    "df_ = df[df['Teff'] + df['Logg_Seis'] * 1000 > 7500].copy()\n",
    "\n",
    "def explore_ratio(CATALOG=df_, ratio='[C/N]', rho_CN=None):\n",
    "    xdata = np.array(CATALOG[['Mass', '[Fe/H]']]).T\n",
    "    ydata = np.array(CATALOG[ratio])\n",
    "    popt, pcov = curve_fit(model, xdata, ydata)\n",
    "    # print(popt, pcov, sep='\\n')\n",
    "\n",
    "    ypred = model(xdata, *popt)\n",
    "    disc = ydata - ypred\n",
    "    if ratio == '[C/N]' and rho_CN is not None:\n",
    "        sigma = np.sqrt(np.square(df_['S_[C/Fe]']) + np.square(df_['S_[N/Fe]'])\n",
    "                        - 2 * rho_CN * df_['S_[C/Fe]'] * df_['S_[N/Fe]'])\n",
    "        chi1 = disc / sigma\n",
    "    else:\n",
    "        chi1 = disc / CATALOG[f'S_{ratio}']\n",
    "    chi2 = np.sum(np.square(chi1)) / (len(CATALOG)-6)\n",
    "\n",
    "    return chi2"
   ]
  },
  {
   "cell_type": "code",
   "execution_count": 12,
   "metadata": {},
   "outputs": [
    {
     "name": "stdout",
     "output_type": "stream",
     "text": [
      "chi2_CFe = 9.167845286697043\n",
      "rescaled: 1.0\n"
     ]
    }
   ],
   "source": [
    "chi2_CFe = explore_ratio(ratio='[C/Fe]')\n",
    "print(f'{chi2_CFe = }')\n",
    "df_['S_[C/Fe]'] = df_['S_[C/Fe]'] * np.sqrt(chi2_CFe)\n",
    "print('rescaled:', explore_ratio(ratio='[C/Fe]'))"
   ]
  },
  {
   "cell_type": "code",
   "execution_count": 13,
   "metadata": {},
   "outputs": [
    {
     "name": "stdout",
     "output_type": "stream",
     "text": [
      "chi2_NFe = 7.3491758798855145\n",
      "rescaled: 1.0000000000000002\n"
     ]
    }
   ],
   "source": [
    "chi2_NFe = explore_ratio(ratio='[N/Fe]')\n",
    "print(f'{chi2_NFe = }')\n",
    "df_['S_[N/Fe]'] = df_['S_[N/Fe]'] * np.sqrt(chi2_NFe)\n",
    "print('rescaled:', explore_ratio(ratio='[N/Fe]'))"
   ]
  },
  {
   "cell_type": "code",
   "execution_count": 14,
   "metadata": {},
   "outputs": [
    {
     "name": "stdout",
     "output_type": "stream",
     "text": [
      "chi2_CN = 1.0940750786137188\n"
     ]
    }
   ],
   "source": [
    "df_['[C/N]'] = df_['[C/Fe]'] - df_['[N/Fe]']\n",
    "df_['S_[C/N]'] = np.sqrt(np.square(df_['S_[C/Fe]']) + np.square(df_['S_[N/Fe]']))\n",
    "chi2_CN = explore_ratio(ratio='[C/N]')\n",
    "print(f'{chi2_CN = }')"
   ]
  },
  {
   "cell_type": "code",
   "execution_count": 15,
   "metadata": {},
   "outputs": [
    {
     "data": {
      "text/plain": [
       "-0.09457213483169677"
      ]
     },
     "execution_count": 15,
     "metadata": {},
     "output_type": "execute_result"
    }
   ],
   "source": [
    "func_chi2 = lambda rho: explore_ratio(ratio='[C/N]', rho_CN=rho) - 1\n",
    "rho_opt = fsolve(func_chi2, -0.33)[0]\n",
    "rho_opt"
   ]
  },
  {
   "cell_type": "code",
   "execution_count": 16,
   "metadata": {},
   "outputs": [],
   "source": [
    "if False:  # 12/20/2024\n",
    "    RES = 31\n",
    "    rho_arr = np.linspace(-0.7, 0.3, RES)\n",
    "    chi2_arr = [explore_ratio(ratio='[C/N]', rho_CN=rho) for rho in rho_arr]\n",
    "\n",
    "    fig, ax = plt.subplots(figsize=(6.4, 4.8))\n",
    "\n",
    "    ax.plot(rho_arr, chi2_arr, 'k-')\n",
    "    ax.set_xlabel(r'$\\rho_{\\rm C,N}$')  # 'RHO_CN'\n",
    "    ax.set_ylabel(r'Reduced $\\chi^2 ([{\\rm C}/{\\rm N}])$')  # 'REDUCED_CHI2'\n",
    "\n",
    "    ax.axvline(rho_opt, ls='--', c='b',\n",
    "            label=rf'Optimal $\\rho_{{\\rm C,N}} = {rho_opt:.4f}$')  # f'Optimal: {rho_opt=:.6f}'\n",
    "    ax.legend()\n",
    "    ax.set_title(r'Measuring correlation between ${\\rm C}$ and ${\\rm N}$ errors')\n",
    "\n",
    "    format_axis(ax)\n",
    "    fig.tight_layout()\n",
    "    fig.savefig('CN_errors.pdf', bbox_inches='tight')\n",
    "    plt.close()\n",
    "    # plt.show()"
   ]
  },
  {
   "cell_type": "code",
   "execution_count": 17,
   "metadata": {},
   "outputs": [],
   "source": [
    "def rescale_CN_errors(df: pd.core.frame.DataFrame):\n",
    "    df['S_[C/Fe]'] = df['S_[C/Fe]'] * np.sqrt(chi2_CFe)\n",
    "    df['S_[N/Fe]'] = df['S_[N/Fe]'] * np.sqrt(chi2_NFe)\n",
    "    df['[C/N]'] = df['[C/Fe]'] - df['[N/Fe]']\n",
    "    df['S_[C/N]'] = np.sqrt(np.square(df['S_[C/Fe]']) + np.square(df['S_[N/Fe]'])\n",
    "                            - 2 * rho_opt * df['S_[C/Fe]'] * df['S_[N/Fe]'])\n",
    "\n",
    "rescale_CN_errors(df)\n",
    "# From 2024.08.28 APOKASC3_Table4_explorer.ipynb.\n",
    "df.to_csv('Table4_Apoor_RGB_Gold.csv')  # , index=False"
   ]
  },
  {
   "cell_type": "markdown",
   "metadata": {},
   "source": [
    "# The RGB+RC Gold sample"
   ]
  },
  {
   "cell_type": "code",
   "execution_count": 18,
   "metadata": {},
   "outputs": [
    {
     "name": "stdout",
     "output_type": "stream",
     "text": [
      "<class 'pandas.core.frame.DataFrame'>\n",
      "Index: 9878 entries, 893214 to 12885196\n",
      "Data columns (total 18 columns):\n",
      " #   Column       Non-Null Count  Dtype  \n",
      "---  ------       --------------  -----  \n",
      " 0   Evol_State   9878 non-null   object \n",
      " 1   Mass         9878 non-null   float64\n",
      " 2   S_Mass       9878 non-null   float64\n",
      " 3   Radius       9878 non-null   float64\n",
      " 4   S_Radius     9878 non-null   float64\n",
      " 5   Logg_Seis    9878 non-null   float64\n",
      " 6   S_Logg_Seis  9878 non-null   float64\n",
      " 7   Teff         9878 non-null   float64\n",
      " 8   S_Teff       9878 non-null   float64\n",
      " 9   [Fe/H]       9878 non-null   float64\n",
      " 10  S_[Fe/H]     9878 non-null   float64\n",
      " 11  [Alp/Fe]     9878 non-null   float64\n",
      " 12  S_[Alp/Fe]   9878 non-null   float64\n",
      " 13  [C/Fe]       9878 non-null   float64\n",
      " 14  S_[C/Fe]     9878 non-null   float64\n",
      " 15  [N/Fe]       9878 non-null   float64\n",
      " 16  S_[N/Fe]     9878 non-null   float64\n",
      " 17  Alpha_Cat    9878 non-null   object \n",
      "dtypes: float64(16), object(2)\n",
      "memory usage: 1.4+ MB\n"
     ]
    }
   ],
   "source": [
    "# From 2024.11.13 APOKASC3_Table4_explorer.ipynb.\n",
    "\n",
    "COLUMNS = ['KIC', 'Evol_State', 'Mass', 'S_Mass', 'Radius', 'S_Radius', 'Logg_Seis', 'S_Logg_Seis', 'Teff', 'S_Teff',\n",
    "           '[Fe/H]', 'S_[Fe/H]', '[Alp/Fe]', 'S_[Alp/Fe]', '[C/Fe]', 'S_[C/Fe]', '[N/Fe]', 'S_[N/Fe]', 'Alpha_Cat']\n",
    "\n",
    "df = pd.read_table('Table4.data', sep='\\s+', low_memory=False)\n",
    "df['Evol_State'] = df['Evol_State'].replace({'RGB_AGB': 'RGB'})\n",
    "df = df[((df['Evol_State'] == 'RGB') | (df['Evol_State'] == 'RC')) & (df['Cat_Tab'] == 'Gold')]\n",
    "df = df[(df['Mass'] > -9999.0) & (df['Radius'] > -9999.0) & (df['[Fe/H]'] > -9999.0) &\n",
    "        (df['[Alp/Fe]'] > -9999.0) & (df['[C/Fe]'] > -9999.0) & (df['[N/Fe]'] > -9999.0)]  # filter out bad values\n",
    "\n",
    "# df['Mass'] /= df['F_Numax']\n",
    "df = df[COLUMNS]\n",
    "df.set_index('KIC', inplace=True)\n",
    "df.info(verbose=True)"
   ]
  },
  {
   "cell_type": "code",
   "execution_count": 19,
   "metadata": {},
   "outputs": [
    {
     "name": "stdout",
     "output_type": "stream",
     "text": [
      "Evol_State: RC, RGB\n",
      "Mass: 0.5193, 3.649\n",
      "S_Mass: 0.0217, 0.1775\n",
      "Radius: 3.893, 52.9843\n",
      "S_Radius: 0.0664, 0.9545\n",
      "Logg_Seis: 1.278, 3.258\n",
      "S_Logg_Seis: 0.0034, 0.0128\n",
      "Teff: 3892.5522, 5311.763\n",
      "S_Teff: 32.9835, 176.1391\n",
      "[Fe/H]: -2.3446, 0.5205\n",
      "S_[Fe/H]: 0.058, 0.058\n",
      "[Alp/Fe]: -0.0676, 0.3728\n",
      "S_[Alp/Fe]: 0.022, 0.1873\n",
      "[C/Fe]: -0.8748, 0.4763\n",
      "S_[C/Fe]: 0.0068, 0.1543\n",
      "[N/Fe]: -0.5754, 0.7966\n",
      "S_[N/Fe]: 0.0081, 5.9129\n"
     ]
    }
   ],
   "source": [
    "for col in COLUMNS:\n",
    "    if col in ['KIC', 'Alpha_Cat']: continue\n",
    "    print(f'{col}: {df[col].min()}, {df[col].max()}')"
   ]
  },
  {
   "cell_type": "code",
   "execution_count": 20,
   "metadata": {},
   "outputs": [
    {
     "name": "stdout",
     "output_type": "stream",
     "text": [
      "9878 -> 7907\n"
     ]
    }
   ],
   "source": [
    "# Step 1: Select alpha-poor stars.\n",
    "n0 = len(df)  # Number of Gold RGB stars.\n",
    "df = df[df['Alpha_Cat'] == 'Apoor']\n",
    "df.drop(columns='Alpha_Cat', inplace=True)\n",
    "n1 = len(df)  # Number of alpha-poor stars.\n",
    "\n",
    "print(n0, '->', n1)"
   ]
  },
  {
   "cell_type": "code",
   "execution_count": 21,
   "metadata": {},
   "outputs": [
    {
     "name": "stdout",
     "output_type": "stream",
     "text": [
      "7907 -> 6603\n"
     ]
    }
   ],
   "source": [
    "# Step 2: Apply mass and metallicity cuts.\n",
    "df = df[(df['Mass'] > 0.90) & (df['Mass'] < 1.80) & (df['[Fe/H]'] > -0.45) & (df['[Fe/H]'] < 0.45)]\n",
    "n2 = len(df)  # Number of stars within mass and metallicity range.\n",
    "\n",
    "print(n1, '->', n2)"
   ]
  },
  {
   "cell_type": "code",
   "execution_count": 22,
   "metadata": {},
   "outputs": [],
   "source": [
    "rescale_CN_errors(df)\n",
    "df.to_csv('Table4_Apoor_RGB+RC_Gold.csv')  # index=False"
   ]
  },
  {
   "cell_type": "code",
   "execution_count": null,
   "metadata": {},
   "outputs": [],
   "source": []
  }
 ],
 "metadata": {
  "kernelspec": {
   "display_name": "base",
   "language": "python",
   "name": "python3"
  },
  "language_info": {
   "codemirror_mode": {
    "name": "ipython",
    "version": 3
   },
   "file_extension": ".py",
   "mimetype": "text/x-python",
   "name": "python",
   "nbconvert_exporter": "python",
   "pygments_lexer": "ipython3",
   "version": "3.11.11"
  }
 },
 "nbformat": 4,
 "nbformat_minor": 2
}
