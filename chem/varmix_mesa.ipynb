{
 "cells": [
  {
   "cell_type": "code",
   "execution_count": 1,
   "id": "5f9fdb90-cedb-435a-9765-fb0b723a8744",
   "metadata": {},
   "outputs": [],
   "source": [
    "import json\n",
    "import pandas as pd\n",
    "import numpy as np\n",
    "import mesa_reader as mr"
   ]
  },
  {
   "cell_type": "code",
   "execution_count": 2,
   "id": "40e13516-3277-45db-b614-bc6d43427e89",
   "metadata": {},
   "outputs": [
    {
     "name": "stdout",
     "output_type": "stream",
     "text": [
      "<class 'pandas.core.frame.DataFrame'>\n",
      "Index: 286 entries, h1 to u38\n",
      "Data columns (total 5 columns):\n",
      " #   Column  Non-Null Count  Dtype  \n",
      "---  ------  --------------  -----  \n",
      " 0   Z       286 non-null    int64  \n",
      " 1   El      286 non-null    object \n",
      " 2   A       286 non-null    int64  \n",
      " 3   %       286 non-null    float64\n",
      " 4   N       286 non-null    object \n",
      "dtypes: float64(1), int64(2), object(2)\n",
      "memory usage: 13.4+ KB\n"
     ]
    }
   ],
   "source": [
    "lodders03 = pd.read_fwf('mesa_apokasc/chem/lodders03.data', skiprows=5, header=None)\n",
    "lodders03 = lodders03.rename(columns=dict(enumerate(['Z', 'El', 'A', '%', 'N'])))\n",
    "lodders03['ElA'] = ''\n",
    "for i, row in lodders03.iterrows():\n",
    "    lodders03.at[i, 'ElA'] = row['El'].lower() + str(row['A'])\n",
    "lodders03 = lodders03.set_index('ElA')\n",
    "lodders03.info()"
   ]
  },
  {
   "cell_type": "code",
   "execution_count": 3,
   "id": "873aa639-7310-4a50-8374-1c94793536f6",
   "metadata": {},
   "outputs": [
    {
     "name": "stdout",
     "output_type": "stream",
     "text": [
      "O 4.000000e-05\n",
      "Hg -5.600000e-04\n",
      "Kr 2.000000e-03\n",
      "Er 6.000000e-03\n",
      "Pb 2.000000e+00\n",
      "Os -3.000000e-04\n",
      "U -5.500000e-03\n",
      "Dy 2.000000e-03\n",
      "Pt 4.000000e-06\n",
      "K 2.000000e-06\n",
      "Xe 1.000000e-03\n",
      "Nd 1.000000e-02\n",
      "Ru 1.000000e-04\n"
     ]
    }
   ],
   "source": [
    "for El in set(lodders03['El']):\n",
    "    sum_ = sum(lodders03['%'][lodders03['El'] == El])\n",
    "    if abs(sum_-100) > 1e-6: print(El, f\"{sum_-100:.6e}\")"
   ]
  },
  {
   "cell_type": "code",
   "execution_count": 4,
   "id": "23118789-9e74-40f0-8f57-592b16fae210",
   "metadata": {},
   "outputs": [],
   "source": [
    "explore_rp_153 = False  # 8/14/2024\n",
    "\n",
    "if explore_rp_153:\n",
    "    h = mr.MesaData('prototype_varmix/history_rp_153.data')\n",
    "    ElAs = [name.removeprefix('surface_') for name in h.bulk_names\n",
    "        if name.startswith('surface_')]  # and h.data(name)[0] > 0.0]\n",
    "    for ElA in ElAs:\n",
    "        print(ElA, h.data(f'surface_{ElA}')[0])"
   ]
  },
  {
   "cell_type": "code",
   "execution_count": 5,
   "id": "7b615afc-4ce6-4c48-b797-d29693fe60cf",
   "metadata": {},
   "outputs": [],
   "source": [
    "if explore_rp_153:\n",
    "    # Note: These are mass ratios versus number ratios...\n",
    "\n",
    "    print(h.data(f'surface_n14')[0] / h.data(f'surface_n15')[0],\n",
    "          lodders03['%'].loc['n14'] / lodders03['%'].loc['n15'])\n",
    "    # 253.92082003565034 272.000273000273\n",
    "\n",
    "    print(h.data(f'surface_ne20')[0] / h.data(f'surface_ne21')[0],\n",
    "          lodders03['%'].loc['ne20'] / lodders03['%'].loc['ne21'])\n",
    "    # 397.260834963878 417.1593357271095"
   ]
  },
  {
   "cell_type": "code",
   "execution_count": 6,
   "id": "833b3a29-56d7-4074-9aa2-41190e98041a",
   "metadata": {},
   "outputs": [],
   "source": [
    "# from mesa_apokasc/chem/solmix.ipynb\n",
    "\n",
    "# with open('mesa_apokasc/chem/isotopes.json', 'r') as f:\n",
    "#     isotopes = json.load(f)\n",
    "\n",
    "with open('mesa_apokasc/chem/weights.json', 'r') as f:\n",
    "    weights = json.load(f)\n",
    "\n",
    "solmix = pd.read_excel('mesa_apokasc/chem/solmix.xlsx', index_col=0)\n",
    "elements = list(solmix.index[5:])\n",
    "\n",
    "# from mesa_apokasc/chem/varmix.ipynb\n",
    "\n",
    "pp_and_cno_extras = ['h1', 'h2', 'he3', 'he4', 'li7', 'be7', 'b8',\n",
    "                     'c12', 'c13', 'n13', 'n14', 'n15', 'o14', 'o15', 'o16', 'o17', 'o18',\n",
    "                     'f17', 'f18', 'f19', 'ne18', 'ne19', 'ne20', 'mg22', 'mg24']"
   ]
  },
  {
   "cell_type": "code",
   "execution_count": 7,
   "id": "2c5d1ce4-6d52-484d-a685-c837806f7725",
   "metadata": {},
   "outputs": [],
   "source": [
    "def get_expected_frac(El: str):\n",
    "    total = 0.0\n",
    "    for metal in elements[2:]:\n",
    "        fraction = 10.0 ** solmix.at[metal, 'G98D'] * weights[metal]\n",
    "        total += fraction\n",
    "        if metal == El: my_fraction = fraction\n",
    "    return (my_fraction / total) * 0.015625"
   ]
  },
  {
   "cell_type": "code",
   "execution_count": 8,
   "id": "c8818d26-b244-49e6-b461-9e083f41a364",
   "metadata": {},
   "outputs": [],
   "source": [
    "if False:  # MESA results based on pp_and_cno_extras.net\n",
    "    h = mr.MesaData('prototype_varmix/LOGS_start/history.data')\n",
    "    print(get_expected_frac('F') / h.data(f'surface_f19')[0])  # 0.998226930158158\n",
    "    print(get_expected_frac('C') / (h.data(f'surface_c12')[0] + h.data(f'surface_c13')[0]))  # 0.9991515528768977\n",
    "    print(get_expected_frac('N') / (h.data(f'surface_n14')[0] + h.data(f'surface_n15')[0]))  # 0.9984872785405259"
   ]
  },
  {
   "cell_type": "code",
   "execution_count": 9,
   "id": "8fccdfd6-0167-49d2-8283-f00445aef800",
   "metadata": {},
   "outputs": [
    {
     "name": "stdout",
     "output_type": "stream",
     "text": [
      "li6, be9, b10, b11, ne21, ne22, na23, mg25, mg26, al27, si28, si29, si30, p31, s32, s33, s34, s36, cl35, cl37, ar36, ar38, ar40, k39, k40, k41, ca40, ca42, ca43, ca44, ca46, ca48, sc45, ti46, ti47, ti48, ti49, ti50, v50, v51, cr50, cr52, cr53, cr54, mn55, fe54, fe56, fe57, fe58, co59, ni58, ni60, ni61, ni62, ni64, cu63, cu65, zn64, zn66, zn67, zn68, zn70, "
     ]
    }
   ],
   "source": [
    "# make varmix.net based on lodders03.data\n",
    "\n",
    "for ElA in lodders03.index:\n",
    "    El = ElA.rstrip('0123456789').capitalize()\n",
    "    if El in elements[:30]:  # up to Zn\n",
    "        if ElA not in pp_and_cno_extras:\n",
    "            print(ElA, end=', ')"
   ]
  },
  {
   "cell_type": "code",
   "execution_count": 10,
   "id": "31ec82e4-8f83-40ad-90b3-2c7dffb029bf",
   "metadata": {},
   "outputs": [],
   "source": [
    "make_GS98_zfracs = False  # 8/14/2024\n",
    "# MESA results based on varmix.net and zfracs = 3\n",
    "\n",
    "if make_GS98_zfracs:\n",
    "    hv3 = mr.MesaData('prototype_varmix/history_varmix_zfracs=3.data')"
   ]
  },
  {
   "cell_type": "code",
   "execution_count": 11,
   "id": "5f6f5148-e0df-40cf-9fad-983ed5c3b1d5",
   "metadata": {},
   "outputs": [],
   "source": [
    "if make_GS98_zfracs:\n",
    "    z_fraction = dict.fromkeys(elements[2:30], 0.0)\n",
    "\n",
    "    for ElA in lodders03.index:\n",
    "        El = ElA.rstrip('0123456789').capitalize()\n",
    "        if El in elements[2:30]:  # up to Zn\n",
    "            # print(ElA, h.data(f'surface_{ElA}')[0])\n",
    "            z_fraction[El] += hv3.data(f'surface_{ElA}')[0] * 64"
   ]
  },
  {
   "cell_type": "code",
   "execution_count": 12,
   "id": "19db3f5a-4040-45fe-bc73-ab964ee8ba40",
   "metadata": {},
   "outputs": [],
   "source": [
    "if make_GS98_zfracs:\n",
    "    with open('GS98_zfracs.json', 'w') as f:\n",
    "        json.dump(z_fraction, f)"
   ]
  },
  {
   "cell_type": "code",
   "execution_count": 13,
   "id": "932194f8-25d4-496f-8a42-b57eab2ee205",
   "metadata": {},
   "outputs": [],
   "source": [
    "if not make_GS98_zfracs:  # 8/26/2024\n",
    "    with open('mesa_apokasc/chem/GS98_zfracs.json', 'r') as f:\n",
    "        z_fraction = json.load(f)"
   ]
  },
  {
   "cell_type": "code",
   "execution_count": 14,
   "id": "5a5140af-201c-4a24-adea-0cbb62715be2",
   "metadata": {},
   "outputs": [
    {
     "name": "stdout",
     "output_type": "stream",
     "text": [
      "      z_fraction_li = 6.2130551359173677d-7\n",
      "      z_fraction_be = 1.0281235548368182d-8\n",
      "      z_fraction_b  = 2.9442539432281245d-7\n",
      "      z_fraction_c  = 1.7234416803930760d-1\n",
      "      z_fraction_n  = 5.0517137046680288d-2\n",
      "      z_fraction_o  = 4.6902638225747662d-1\n",
      "      z_fraction_f  = 2.4884702142252405d-5\n",
      "      z_fraction_ne = 1.0425122119375173d-1\n",
      "      z_fraction_na = 2.0832911008088566d-3\n",
      "      z_fraction_mg = 3.9550850202704046d-2\n",
      "      z_fraction_al = 3.6164466074365925d-3\n",
      "      z_fraction_si = 4.4057043329104026d-2\n",
      "      z_fraction_p  = 4.8776349917941373d-4\n",
      "      z_fraction_s  = 2.1977896032177386d-2\n",
      "      z_fraction_cl = 2.8899925908400172d-4\n",
      "      z_fraction_ar = 3.9185567682208950d-3\n",
      "      z_fraction_k  = 2.2796890393858311d-4\n",
      "      z_fraction_ca = 3.8803328813059421d-3\n",
      "      z_fraction_sc = 2.4547211099022999d-6\n",
      "      z_fraction_ti = 1.8112790168843204d-4\n",
      "      z_fraction_v  = 2.3137053052812830d-5\n",
      "      z_fraction_cr = 1.1033709217569744d-3\n",
      "      z_fraction_mn = 8.0739963316711660d-4\n",
      "      z_fraction_fe = 7.6718217346043241d-2\n",
      "      z_fraction_co = 2.0776640862553487d-4\n",
      "      z_fraction_ni = 4.4684708348901566d-3\n",
      "      z_fraction_cu = 5.3219439915856943d-5\n",
      "      z_fraction_zn = 1.8096790428839246d-4\n"
     ]
    }
   ],
   "source": [
    "# make inlist_start with zfracs = 0\n",
    "\n",
    "for El, frac in z_fraction.items():\n",
    "    print(f'      z_fraction_{El.lower():2} = {frac:.16e}'.replace('e-0', 'd-'))"
   ]
  },
  {
   "cell_type": "code",
   "execution_count": 15,
   "id": "bc5f745b-511f-46e2-aa7f-0f6ecc8ec44f",
   "metadata": {},
   "outputs": [],
   "source": [
    "if make_GS98_zfracs:\n",
    "    hv0 = mr.MesaData('prototype_varmix/history_varmix_zfracs=0.data')\n",
    "\n",
    "    for ElA in lodders03.index:\n",
    "        El = ElA.rstrip('0123456789').capitalize()\n",
    "        if El in elements[:30]:  # up to Zn\n",
    "            ratio = hv3.data(f'surface_{ElA}')[0] / hv0.data(f'surface_{ElA}')[0]\n",
    "            if abs(ratio-1) > 1e-6: print(ElA, ratio)"
   ]
  },
  {
   "cell_type": "code",
   "execution_count": 16,
   "id": "3b4f4ca4-9fc6-4585-ae74-40ecb7222234",
   "metadata": {},
   "outputs": [],
   "source": [
    "if make_GS98_zfracs:\n",
    "    he0 = mr.MesaData('prototype_varmix/history_extras_zfracs=0.data')\n",
    "    he3 = mr.MesaData('prototype_varmix/history_extras_zfracs=3.data')\n",
    "\n",
    "    for ElA in pp_and_cno_extras:\n",
    "        if ElA in ['b8', 'n13', 'o14', 'o15', 'f17', 'f18', 'ne18', 'ne19', 'mg22']: continue\n",
    "        ratio = he3.data(f'surface_{ElA}')[0] / he0.data(f'surface_{ElA}')[0]\n",
    "        if abs(ratio-1) > 1e-6: print(ElA, ratio, he3.data(f'surface_{ElA}')[0], he0.data(f'surface_{ElA}')[0])"
   ]
  },
  {
   "cell_type": "code",
   "execution_count": 17,
   "id": "f2853547-2629-4693-98a7-5c3ecf2eb13c",
   "metadata": {},
   "outputs": [],
   "source": [
    "# from kap/aesopus_maker.py\n",
    "\n",
    "alpha_elements = ['O', 'Ne', 'Mg', 'Si', 'S', 'Ar', 'Ca']\n",
    "\n",
    "def CFe_NFe_calc(FeH):\n",
    "    CFe = 0.268 * FeH**2 + 0.0258 * FeH - 0.00983\n",
    "    NFe = 0.373 * FeH**2 + 0.373  * FeH + 0.0260\n",
    "    return CFe, NFe"
   ]
  },
  {
   "cell_type": "code",
   "execution_count": 18,
   "id": "984c1b01-13b9-4fa3-826c-472b3be24c76",
   "metadata": {},
   "outputs": [],
   "source": [
    "def vary_z_fraction(AFe: float = None, CNFe: float = None):\n",
    "    z_fraction_ = z_fraction.copy()\n",
    "\n",
    "    if AFe is not None:\n",
    "        for elem in ['O', 'Ne', 'Mg', 'Si', 'S', 'Ar', 'Ca']:\n",
    "            z_fraction_[elem] *= 10 ** AFe\n",
    "\n",
    "    if CNFe is not None:\n",
    "        CFe, NFe = CFe_NFe_calc(CNFe)\n",
    "        z_fraction_['C'] *= 10 ** CFe\n",
    "        z_fraction_['N'] *= 10 ** NFe\n",
    "\n",
    "    # normalization\n",
    "    total = sum(z_fraction_.values())\n",
    "    for El in z_fraction_:\n",
    "        z_fraction_[El] /= total\n",
    "\n",
    "    for El, frac in z_fraction_.items():\n",
    "        print(f'      z_fraction_{El.lower():2} = {frac:.16e}'.replace('e-0', 'd-'))\n",
    "        # print(f'      z_fraction_{El.lower():2} = {z_fraction[El]:.16e}'.replace('e-0', 'd-'))"
   ]
  },
  {
   "cell_type": "code",
   "execution_count": 19,
   "id": "9b8719a2-1c0b-45d7-a046-a2cd36d2ad57",
   "metadata": {},
   "outputs": [],
   "source": [
    "# vary_z_fraction(AFe=0.1)\n",
    "\n",
    "CNFe = +0.45  # -0.48, -0.32, -0.16, +0.00, +0.15, +0.30, +0.45\n",
    "# vary_z_fraction(CNFe=CNFe)"
   ]
  },
  {
   "cell_type": "code",
   "execution_count": 20,
   "id": "83b5e3fb-bcd8-4e6c-9a71-a61140d8e267",
   "metadata": {},
   "outputs": [],
   "source": [
    "# from chem/varmix.ipynb\n",
    "\n",
    "df = pd.read_excel('mesa_apokasc/chem/solmix.xlsx', index_col=0)[['G98D']]\n",
    "df = df.rename(columns={'G98D': 'GS98'})\n",
    "# elements = list(df.index.values[5:])\n",
    "GS98 = dict(df['GS98']); del df"
   ]
  },
  {
   "cell_type": "code",
   "execution_count": 21,
   "id": "ee90d8c1-0b74-4ec3-8b1e-085507ff5dc5",
   "metadata": {},
   "outputs": [],
   "source": [
    "# calculate Z/X for varying C and N\n",
    "\n",
    "def calc_Z_over_X(stdmix: dict, CNFe: float = None) -> float:\n",
    "    X = 10.0 ** stdmix['H' ] * weights['H' ]\n",
    "    Y = 10.0 ** stdmix['He'] * weights['He']\n",
    "    if CNFe is not None:\n",
    "        CFe, NFe = CFe_NFe_calc(CNFe)\n",
    "\n",
    "    Z = 0.0\n",
    "    for metal in elements[2:]:\n",
    "        fraction = 10.0 ** stdmix[metal] * weights[metal]\n",
    "        if CNFe is not None:\n",
    "            if metal == 'C':   fraction *= 10 ** CFe\n",
    "            elif metal == 'N': fraction *= 10 ** NFe\n",
    "        Z += fraction\n",
    "\n",
    "    return Z/X"
   ]
  },
  {
   "cell_type": "code",
   "execution_count": 22,
   "id": "9da0c88b-46c9-4bdf-8c0f-a3be4d29c4ff",
   "metadata": {},
   "outputs": [
    {
     "name": "stdout",
     "output_type": "stream",
     "text": [
      "-6.938893903907228e-18\n",
      "0.0\n",
      "-6.938893903907228e-18\n",
      "-3.469446951953614e-18\n",
      "-3.469446951953614e-18\n",
      "-3.469446951953614e-18\n",
      "0.0\n",
      "-6.938893903907228e-18\n"
     ]
    }
   ],
   "source": [
    "def calc_Z_over_X_(FeH: float = None) -> float:\n",
    "    X = 1007844521769.9199\n",
    "    # Y = 85781480907.22614\n",
    "    Z_C = 3977254034.668961\n",
    "    Z_N = 1165028735.404283\n",
    "    Z_other = 17954706441.722904\n",
    "\n",
    "    if FeH is not None:\n",
    "        Z_C *= 10 ** (0.268 * FeH**2 + 0.0258 * FeH - 0.00983)\n",
    "        Z_N *= 10 ** (0.373 * FeH**2 + 0.373  * FeH + 0.0260 )\n",
    "    return (Z_C + Z_N + Z_other) / X\n",
    "\n",
    "for CNFe in [None, -0.48, -0.32, -0.16, +0.00, +0.15, +0.30, +0.45]:\n",
    "    print(calc_Z_over_X(GS98, CNFe=CNFe) - calc_Z_over_X_(CNFe))"
   ]
  },
  {
   "cell_type": "code",
   "execution_count": 23,
   "id": "45687ed2-5d6e-4c9a-b49f-7c46ff308568",
   "metadata": {},
   "outputs": [],
   "source": [
    "# for var_chem_r24cn.py\n",
    "\n",
    "def Z_OVER_X_OPT(FeH: float) -> float:\n",
    "    X = 1007844521769.9199\n",
    "    # Y = 85781480907.22614\n",
    "    Z_C = 3977254034.668961\n",
    "    Z_N = 1165028735.404283\n",
    "    Z_other = 17954706441.722904\n",
    "\n",
    "    if FeH is not None:\n",
    "        Z_C *= 10 ** (0.268 * FeH**2 + 0.0258 * FeH - 0.00983)\n",
    "        Z_N *= 10 ** (0.373 * FeH**2 + 0.373  * FeH + 0.0260 )\n",
    "    return 0.022903289366476506 / 0.02291721462278181 * (Z_C + Z_N + Z_other) / X"
   ]
  },
  {
   "cell_type": "code",
   "execution_count": 24,
   "id": "e27955a6-90b9-4bd0-95c8-5613a8fdf0f2",
   "metadata": {},
   "outputs": [
    {
     "name": "stdout",
     "output_type": "stream",
     "text": [
      "-6.938893903907228e-18\n",
      "-1.3877787807814457e-17\n",
      "-2.42861286636753e-17\n",
      "-3.469446951953614e-18\n",
      "2.42861286636753e-17\n",
      "-3.8163916471489756e-17\n",
      "-3.8163916471489756e-17\n"
     ]
    }
   ],
   "source": [
    "Z_OVER_X_OPT_ = {  # from chem/varmix.xlsx\n",
    "    -0.48: 0.0231137560860558,  # CN-0.48\n",
    "    -0.32: 0.0228513802114704,  # CN-0.32\n",
    "    -0.16: 0.0227769221396675,  # CN-0.16\n",
    "     0.00: 0.0228862985189309,  # CN+0.00\n",
    "     0.15: 0.0231710663378548,  # CN+0.15\n",
    "     0.30: 0.0236677959294306,  # CN+0.30\n",
    "     0.45: 0.0244394709990096}  # CN+0.45\n",
    "\n",
    "for FeH in [-0.48, -0.32, -0.16, +0.00, +0.15, +0.30, +0.45]:\n",
    "    print(Z_OVER_X_OPT(FeH) - Z_OVER_X_OPT_[FeH])"
   ]
  },
  {
   "cell_type": "code",
   "execution_count": null,
   "id": "1715077a-b5fe-4633-af1c-8394a1a07547",
   "metadata": {},
   "outputs": [],
   "source": []
  }
 ],
 "metadata": {
  "kernelspec": {
   "display_name": "Python 3.9 (Conda 2022.05) [python/3.9-2022.05]",
   "language": "python",
   "name": "python39_202205"
  },
  "language_info": {
   "codemirror_mode": {
    "name": "ipython",
    "version": 3
   },
   "file_extension": ".py",
   "mimetype": "text/x-python",
   "name": "python",
   "nbconvert_exporter": "python",
   "pygments_lexer": "ipython3",
   "version": "3.9.12"
  }
 },
 "nbformat": 4,
 "nbformat_minor": 5
}
