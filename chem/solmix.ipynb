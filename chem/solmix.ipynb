{
 "cells": [
  {
   "cell_type": "code",
   "execution_count": 1,
   "id": "ce1eb0cb",
   "metadata": {},
   "outputs": [],
   "source": [
    "import json\n",
    "import re\n",
    "from math import log10\n",
    "\n",
    "import pandas as pd"
   ]
  },
  {
   "cell_type": "code",
   "execution_count": 2,
   "id": "2ec91d8c",
   "metadata": {},
   "outputs": [],
   "source": [
    "# reduce $MESA_DIR/chem/data/isotopes.data\n",
    "\n",
    "build_isotopes = False\n",
    "\n",
    "if build_isotopes:\n",
    "    with open('isotopes.data', 'r') as f:\n",
    "        lines = f.readlines()\n",
    "\n",
    "    isotopes = {}\n",
    "\n",
    "    for line in lines:\n",
    "        if line == '\\n': continue\n",
    "        segments = line.split()\n",
    "        iso = segments[0]\n",
    "\n",
    "        if iso.startswith('xtra'): continue\n",
    "        if iso[0].isalpha() and iso[-1].isdigit():\n",
    "            isotopes[iso] = float(segments[1])\n",
    "\n",
    "    with open('isotopes.json', 'w') as f:\n",
    "        json.dump(isotopes, f)\n",
    "    del isotopes"
   ]
  },
  {
   "cell_type": "code",
   "execution_count": 3,
   "id": "f1a1b72e",
   "metadata": {},
   "outputs": [],
   "source": [
    "with open('isotopes.json', 'r') as f:\n",
    "    isotopes = json.load(f)\n",
    "\n",
    "# build list of elements\n",
    "\n",
    "elements = []\n",
    "\n",
    "for iso in isotopes:\n",
    "    m = re.match('[a-z]+', iso)\n",
    "    elem = m.group(0).capitalize()\n",
    "\n",
    "    if not elements or elem != elements[-1]:\n",
    "        elements.append(elem)"
   ]
  },
  {
   "cell_type": "code",
   "execution_count": 4,
   "id": "9a96f8ae",
   "metadata": {},
   "outputs": [],
   "source": [
    "fractions = ['X_frac', 'Y_frac', 'Z_frac', 'X/Z', 'OP/Z']\n",
    "df = pd.DataFrame(columns=[], index=fractions + elements)"
   ]
  },
  {
   "cell_type": "code",
   "execution_count": 5,
   "id": "4c434d66",
   "metadata": {},
   "outputs": [],
   "source": [
    "def clean_l(line: str) -> str:\n",
    "    return re.sub('[$\\\\\\[\\]()\\n<]', '', line)\n",
    "\n",
    "def clean_s(seg: str) -> str:\n",
    "    if 'pm' in seg:\n",
    "        seg = seg.partition('pm')[0]\n",
    "    return seg.strip()"
   ]
  },
  {
   "cell_type": "code",
   "execution_count": 6,
   "id": "7035c0d6",
   "metadata": {},
   "outputs": [],
   "source": [
    "volatile_elements = ['H', 'He', 'C', 'N', 'O', 'Ne', 'Ar', 'Kr', 'Xe', 'Rn']\n",
    "\n",
    "def is_volatile(elem: str) -> bool:\n",
    "    assert elem in elements, 'No such element'\n",
    "    return elem in volatile_elements"
   ]
  },
  {
   "cell_type": "code",
   "execution_count": 7,
   "id": "dc209683",
   "metadata": {},
   "outputs": [],
   "source": [
    "def met_scale(ref: str) -> None:\n",
    "    df[f'{ref}S'] = -999.99\n",
    "    delta = df.at['Si', f'{ref}P'] - df.at['Si', f'{ref}M']\n",
    "\n",
    "    for elem in elements:\n",
    "        phot = df.at[elem, f'{ref}P']\n",
    "        met  = df.at[elem, f'{ref}M']\n",
    "        if max(phot, met) == -999.99: continue\n",
    "\n",
    "        if is_volatile(elem):\n",
    "            df.at[elem, f'{ref}S'] = df.at[elem, f'{ref}P']\n",
    "        else:\n",
    "            df.at[elem, f'{ref}S'] = df.at[elem, f'{ref}M'] + delta\n",
    "\n",
    "        if ref in ['G98', 'M22'] and elem in ['Kr', 'Xe']:\n",
    "            df.at[elem, f'{ref}S'] = df.at[elem, f'{ref}M'] + delta"
   ]
  },
  {
   "cell_type": "code",
   "execution_count": 8,
   "id": "3fbe499d",
   "metadata": {},
   "outputs": [],
   "source": [
    "# parse segments of chem/public/chem_def.f90\n",
    "\n",
    "p_mesa = re.compile('zfrac\\(e_([A-Za-z]+)\\s*\\)\\s*=\\s*([\\-0-9\\.]+)d0')\n",
    "\n",
    "def parse_chem_def(col: str, filename: str) -> None:\n",
    "    df[col] = -20.0\n",
    "\n",
    "    with open(filename) as f:\n",
    "        lines = f.readlines()\n",
    "\n",
    "    for line in lines:\n",
    "        m = re.search(p_mesa, line.strip())\n",
    "        if m is None: continue\n",
    "        elem, mesa = m.group(1).capitalize(), float(m.group(2))\n",
    "        df.at[elem, col] = mesa"
   ]
  },
  {
   "cell_type": "code",
   "execution_count": 9,
   "id": "e7702d69",
   "metadata": {},
   "outputs": [],
   "source": [
    "# parse GS98.txt\n",
    "\n",
    "df['G98P'] = -999.99\n",
    "df['G98M'] = -999.99\n",
    "\n",
    "with open('GS98.txt') as f:\n",
    "    lines = f.readlines()\n",
    "\n",
    "for line in lines:\n",
    "    segments = [clean_s(seg) for seg in clean_l(line).split('&')]\n",
    "\n",
    "    for i in range(len(segments) // 4):\n",
    "        elem, phot, met, delta = segments[i*4:(i+1)*4]\n",
    "        if not elem: continue\n",
    "        z, elem = elem.partition(' ')[::2]\n",
    "\n",
    "        # if int(z) != elements.index(elem)+1:\n",
    "        #     print('Warning: z and elem do not match for', elem)\n",
    "\n",
    "        # if phot and met and delta:\n",
    "        #     if round(float(phot) - float(met) - float(delta), 2) != 0.0:\n",
    "        #         print('Warning: phot, met, and delta do not match for', elem)\n",
    "\n",
    "        if phot: df.at[elem, 'G98P'] = float(phot)\n",
    "        if met:  df.at[elem, 'G98M'] = float(met)\n",
    "\n",
    "met_scale('G98')\n",
    "parse_chem_def('G98D', 'GS98_mesa.txt')  # d stands for MESA default"
   ]
  },
  {
   "cell_type": "code",
   "execution_count": 10,
   "id": "f7de7724",
   "metadata": {},
   "outputs": [],
   "source": [
    "# parse MBS22.txt\n",
    "\n",
    "df['M22P'] = df['G98P']\n",
    "df['M22M'] = df['G98M']\n",
    "\n",
    "with open('MBS22.txt') as f:\n",
    "    lines = f.readlines()\n",
    "\n",
    "for line in lines:\n",
    "    if line.startswith('%'): continue\n",
    "\n",
    "    segments = [clean_s(seg) for seg in clean_l(line).split('&')]\n",
    "    elem, phot, note, met = segments\n",
    "\n",
    "    if phot != '-': df.at[elem, 'M22P'] = float(phot)\n",
    "    if met != '-':  df.at[elem, 'M22M'] = float(met)\n",
    "\n",
    "for elem, abun in zip(['Ba', 'Eu', 'Hf', 'Os', 'Th'],\n",
    "                      [2.27, 0.52, 0.73, 1.36, 0.08]):\n",
    "    df.at[elem, 'M22P'] = abun\n",
    "\n",
    "met_scale('M22')"
   ]
  },
  {
   "cell_type": "code",
   "execution_count": 11,
   "id": "6354f3e1",
   "metadata": {},
   "outputs": [],
   "source": [
    "# parse AAG21.txt\n",
    "\n",
    "df['A21P'] = -999.99\n",
    "df['A21M'] = -999.99\n",
    "\n",
    "with open('AAG21.txt') as f:\n",
    "    lines = f.readlines()\n",
    "\n",
    "for line in lines:\n",
    "    segments = [clean_s(seg) for seg in clean_l(line).split('&')]\n",
    "\n",
    "    for i in range(2):\n",
    "        z, elem, phot, met, note = segments[i*5:(i+1)*5]\n",
    "        if not z: continue\n",
    "        if phot: df.at[elem, 'A21P'] = float(phot)\n",
    "        if met:  df.at[elem, 'A21M'] = float(met)\n",
    "\n",
    "met_scale('A21')"
   ]
  },
  {
   "cell_type": "code",
   "execution_count": 12,
   "id": "670572a6",
   "metadata": {},
   "outputs": [],
   "source": [
    "# parse AGSS09.txt\n",
    "\n",
    "df['A09P'] = -999.99\n",
    "df['A09M'] = -999.99\n",
    "\n",
    "with open('AGSS09.txt') as f:\n",
    "    lines = f.readlines()\n",
    "\n",
    "for line in lines:\n",
    "    segments = [clean_s(seg) for seg in clean_l(line).split('&')]\n",
    "\n",
    "    for i in range(len(segments) // 4):\n",
    "        z, elem, phot, met = segments[i*4:(i+1)*4]\n",
    "        if phot: df.at[elem, 'A09P'] = float(phot)\n",
    "        if met:  df.at[elem, 'A09M'] = float(met)\n",
    "\n",
    "met_scale('A09')\n",
    "parse_chem_def('A09D', 'AGSS09_mesa.txt')  # d stands for MESA default"
   ]
  },
  {
   "cell_type": "code",
   "execution_count": 13,
   "id": "2fb66124",
   "metadata": {},
   "outputs": [],
   "source": [
    "def get_weight(wt: str) -> float:\n",
    "    return float(re.sub('[$\\[\\]() ]', '', wt))"
   ]
  },
  {
   "cell_type": "code",
   "execution_count": 14,
   "id": "9893d757",
   "metadata": {},
   "outputs": [],
   "source": [
    "# parse IUPAC 2021 Atomic Weights\n",
    "\n",
    "build_weights = False\n",
    "\n",
    "if build_weights:\n",
    "    with open('IUPAC21.txt') as f:\n",
    "        lines = f.readlines()\n",
    "\n",
    "    weights = {}\n",
    "\n",
    "    for line in lines:\n",
    "        segments = line.rstrip().split('\\t')\n",
    "        elem, wt = segments[1::2]\n",
    "        weights[elem] = get_weight(wt)"
   ]
  },
  {
   "cell_type": "code",
   "execution_count": 15,
   "id": "ed3697dd",
   "metadata": {},
   "outputs": [],
   "source": [
    "# parse $MESA_DIR/chem/data/lodders03.data\n",
    "\n",
    "if build_weights:\n",
    "    with open('lodders03.data') as f:\n",
    "        lines = f.readlines()\n",
    "\n",
    "    weights_l = {}  # l stands for lodders\n",
    "\n",
    "    for line in lines:\n",
    "        if line.startswith('!'): continue\n",
    "        segments = line.split()\n",
    "        z, elem, a, frac, n = segments\n",
    "\n",
    "        if elem not in weights_l:\n",
    "            weights_l[elem] = isotopes[f'{elem.lower()}{a}'] * float(frac)/100.0\n",
    "        else:\n",
    "            weights_l[elem] += isotopes[f'{elem.lower()}{a}'] * float(frac)/100.0"
   ]
  },
  {
   "cell_type": "code",
   "execution_count": 16,
   "id": "2bd80236",
   "metadata": {},
   "outputs": [],
   "source": [
    "if build_weights:\n",
    "    # for elem in weights_l:\n",
    "    #     print(elem, log10(abs(weights_l[elem] / weights[elem] - 1)))\n",
    "\n",
    "    weights.update(weights_l)\n",
    "\n",
    "    with open('weights.json', 'w') as f:\n",
    "        json.dump(weights, f)\n",
    "    del weights"
   ]
  },
  {
   "cell_type": "code",
   "execution_count": 17,
   "id": "35176e44",
   "metadata": {},
   "outputs": [],
   "source": [
    "with open('weights.json', 'r') as f:\n",
    "    weights = json.load(f)"
   ]
  },
  {
   "cell_type": "code",
   "execution_count": 18,
   "id": "c67295ff",
   "metadata": {},
   "outputs": [],
   "source": [
    "OP_elements_main = ['H', 'He', 'C', 'N', 'O', 'Ne', 'Na', 'Mg', 'Al', 'Si', 'S', 'Ca', 'Ar', 'Cr', 'Mn', 'Fe', 'Ni']\n",
    "OP_elements_plus = ['P', 'Cl', 'K', 'Ti']\n",
    "OP_elements = OP_elements_main + OP_elements_plus\n",
    "\n",
    "def is_in_OP(elem: str) -> bool:\n",
    "    assert elem in elements, 'No such element'\n",
    "    return elem in OP_elements"
   ]
  },
  {
   "cell_type": "code",
   "execution_count": 19,
   "id": "0b248a01",
   "metadata": {},
   "outputs": [],
   "source": [
    "def calc_mass_fractions(col: str) -> None:\n",
    "    X = 10.0 ** df.at['H',  col] * weights['H' ]\n",
    "    Y = 10.0 ** df.at['He', col] * weights['He']\n",
    "\n",
    "    Z, OP = 0.0, 0.0\n",
    "    for metal in elements[2:]:\n",
    "        fraction = 10.0 ** df.at[metal, col] * weights[metal]\n",
    "        Z += fraction\n",
    "        if is_in_OP(metal): OP += fraction\n",
    "    total = X + Y + Z\n",
    "\n",
    "    df.at['X_frac', col] = X / total\n",
    "    df.at['Y_frac', col] = Y / total\n",
    "    df.at['Z_frac', col] = Z / total\n",
    "    df.at['Z/X',    col] = (Z / X) if X else 0.0\n",
    "    df.at['OP/Z',   col] = OP / Z"
   ]
  },
  {
   "cell_type": "code",
   "execution_count": 20,
   "id": "654e0dd8",
   "metadata": {},
   "outputs": [],
   "source": [
    "for col in df.columns:\n",
    "    calc_mass_fractions(col)"
   ]
  },
  {
   "cell_type": "code",
   "execution_count": 21,
   "id": "4d1670fa",
   "metadata": {},
   "outputs": [],
   "source": [
    "# print(df.to_markdown())\n",
    "df.to_excel('solmix.xlsx')"
   ]
  },
  {
   "cell_type": "code",
   "execution_count": null,
   "id": "4cd9d59f",
   "metadata": {},
   "outputs": [],
   "source": []
  }
 ],
 "metadata": {
  "kernelspec": {
   "display_name": "Python 3 (ipykernel)",
   "language": "python",
   "name": "python3"
  },
  "language_info": {
   "codemirror_mode": {
    "name": "ipython",
    "version": 3
   },
   "file_extension": ".py",
   "mimetype": "text/x-python",
   "name": "python",
   "nbconvert_exporter": "python",
   "pygments_lexer": "ipython3",
   "version": "3.9.17"
  }
 },
 "nbformat": 4,
 "nbformat_minor": 5
}
