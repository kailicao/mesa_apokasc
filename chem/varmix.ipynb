{
 "cells": [
  {
   "cell_type": "code",
   "execution_count": 1,
   "id": "ce1eb0cb",
   "metadata": {},
   "outputs": [],
   "source": [
    "import json\n",
    "import re\n",
    "\n",
    "import pandas as pd\n",
    "import numpy as np"
   ]
  },
  {
   "cell_type": "code",
   "execution_count": 2,
   "id": "4d1670fa",
   "metadata": {},
   "outputs": [],
   "source": [
    "make_varmix = False  # 10/18/2023\n",
    "\n",
    "if make_varmix:\n",
    "    df = pd.read_excel('solmix.xlsx', index_col=0)[['G98D']]\n",
    "    df = df.rename(columns={'G98D': 'GS98'})\n",
    "    elements = list(df.index.values[5:])"
   ]
  },
  {
   "cell_type": "code",
   "execution_count": 3,
   "id": "d0c63fb5",
   "metadata": {},
   "outputs": [],
   "source": [
    "# from kap/aesopus_maker.py\n",
    "\n",
    "alpha_elements = ['O', 'Ne', 'Mg', 'Si', 'S', 'Ar', 'Ca']\n",
    "\n",
    "def CFe_NFe_calc(FeH):\n",
    "    CFe = 0.268 * FeH**2 + 0.0258 * FeH - 0.00983\n",
    "    NFe = 0.373 * FeH**2 + 0.373  * FeH + 0.0260\n",
    "    return CFe, NFe"
   ]
  },
  {
   "cell_type": "code",
   "execution_count": 4,
   "id": "50194cd7",
   "metadata": {},
   "outputs": [],
   "source": [
    "# from chem/solmix.ipynb\n",
    "\n",
    "with open('weights.json', 'r') as f:\n",
    "    weights = json.load(f)\n",
    "\n",
    "OP_elements_main = ['H', 'He', 'C', 'N', 'O', 'Ne', 'Na', 'Mg', 'Al', 'Si', 'S', 'Ca', 'Ar', 'Cr', 'Mn', 'Fe', 'Ni']\n",
    "OP_elements_plus = ['P', 'Cl', 'K', 'Ti']\n",
    "OP_elements = OP_elements_main + OP_elements_plus\n",
    "\n",
    "def is_in_OP(elem: str) -> bool:\n",
    "    return elem in OP_elements"
   ]
  },
  {
   "cell_type": "code",
   "execution_count": 5,
   "id": "1a9be848",
   "metadata": {},
   "outputs": [],
   "source": [
    "# from chem/solmix.ipynb\n",
    "\n",
    "def calc_mass_fractions(col: str) -> None:\n",
    "    X = 10.0 ** df.at['H',  col] * weights['H' ]\n",
    "    Y = 10.0 ** df.at['He', col] * weights['He']\n",
    "\n",
    "    Z, OP = 0.0, 0.0\n",
    "    for metal in elements[2:]:\n",
    "        fraction = 10.0 ** df.at[metal, col] * weights[metal]\n",
    "        Z += fraction\n",
    "        if is_in_OP(metal): OP += fraction\n",
    "    total = X + Y + Z\n",
    "\n",
    "    df.at['X_frac', col] = X / total\n",
    "    df.at['Y_frac', col] = Y / total\n",
    "    df.at['Z_frac', col] = Z / total\n",
    "    df.at['Z/X',    col] = (Z / X) if X else 0.0\n",
    "    df.at['OP/Z',   col] = OP / Z"
   ]
  },
  {
   "cell_type": "code",
   "execution_count": 6,
   "id": "7804ad00",
   "metadata": {},
   "outputs": [],
   "source": [
    "if make_varmix:\n",
    "    for AFe in [+0.1]:\n",
    "        col = f'A{round(AFe, 1):+.1f}'\n",
    "        df[col] = df['GS98']\n",
    "\n",
    "        for elem in alpha_elements:\n",
    "            df.at[elem, col] += AFe\n",
    "        calc_mass_fractions(col)"
   ]
  },
  {
   "cell_type": "code",
   "execution_count": 7,
   "id": "4cd9d59f",
   "metadata": {},
   "outputs": [],
   "source": [
    "if make_varmix:\n",
    "    for FeH in np.linspace(-0.45, +0.45, 7):\n",
    "        col = f'CN{round(FeH+1e-6, 2):+.2f}'\n",
    "        df[col] = df['GS98']\n",
    "\n",
    "        CFe, NFe = CFe_NFe_calc(FeH)\n",
    "        df.at['C', col] += CFe\n",
    "        df.at['N', col] += NFe\n",
    "        calc_mass_fractions(col)"
   ]
  },
  {
   "cell_type": "code",
   "execution_count": 8,
   "id": "226bfc72",
   "metadata": {},
   "outputs": [],
   "source": [
    "if make_varmix:\n",
    "    df.to_excel('varmix.xlsx')\n",
    "    del df"
   ]
  },
  {
   "cell_type": "code",
   "execution_count": 9,
   "id": "8f298fbe",
   "metadata": {},
   "outputs": [],
   "source": [
    "df = pd.read_excel('varmix.xlsx', index_col=0)\n",
    "# elements = list(df.index.values[5:])"
   ]
  },
  {
   "cell_type": "code",
   "execution_count": 10,
   "id": "d1716098",
   "metadata": {},
   "outputs": [],
   "source": [
    "pp_and_cno_extras = ['h1', 'h2', 'he3', 'he4', 'li7', 'be7', 'b8',\n",
    "                     'c12', 'c13', 'n13', 'n14', 'n15', 'o14', 'o15', 'o16', 'o17', 'o18',\n",
    "                     'f17', 'f18', 'f19', 'ne18', 'ne19', 'ne20', 'mg22', 'mg24']"
   ]
  },
  {
   "cell_type": "code",
   "execution_count": 11,
   "id": "cbf0eda0",
   "metadata": {},
   "outputs": [],
   "source": [
    "def get_elem_and_a(iso: str) -> (str, int):\n",
    "    m = re.match('([a-z]+)([0-9]+)', iso)\n",
    "    elem = m.group(1).capitalize()\n",
    "    a = m.group(2)\n",
    "    return elem, a\n",
    "\n",
    "if False:  # test get_elem_and_a, 10/18/2023\n",
    "    for iso in pp_and_cno_extras:\n",
    "        print(iso, *get_elem_and_a(iso))"
   ]
  },
  {
   "cell_type": "code",
   "execution_count": 12,
   "id": "56a291dc",
   "metadata": {},
   "outputs": [],
   "source": [
    "# parse $MESA_DIR/chem/data/lodders03.data\n",
    "# different from chem/solmix.ipynb\n",
    "\n",
    "with open('lodders03.data') as f:\n",
    "    lines = f.readlines()\n",
    "\n",
    "lodders03 = {}\n",
    "\n",
    "for line in lines:\n",
    "    if line.startswith('!'): continue\n",
    "    z, elem, a, frac, n = line.split()\n",
    "\n",
    "    if elem not in lodders03:\n",
    "        lodders03[elem] = {}\n",
    "    lodders03[elem][a] = float(frac)/100.0\n",
    "\n",
    "if False:  # test lodders03, 10/18/2023\n",
    "    for elem, fracs in lodders03.items():\n",
    "        for a, frac in fracs.items():\n",
    "            iso = f'{elem.lower()}{a}'\n",
    "            print(elem, a, frac, isotopes[iso])"
   ]
  },
  {
   "cell_type": "code",
   "execution_count": 13,
   "id": "ace9bad9",
   "metadata": {},
   "outputs": [],
   "source": [
    "# from chem/solmix.ipynb\n",
    "\n",
    "with open('isotopes.json', 'r') as f:\n",
    "    isotopes = json.load(f)"
   ]
  },
  {
   "cell_type": "code",
   "execution_count": 14,
   "id": "0ee198cc",
   "metadata": {},
   "outputs": [],
   "source": [
    "calc_mass_fracs = False  # never used, 10/18/2023\n",
    "\n",
    "if calc_mass_fracs:\n",
    "    mass_fracs = {}\n",
    "\n",
    "    for elem, num_fracs in lodders03.items():\n",
    "        mass_fracs[elem] = {}\n",
    "\n",
    "        for a, num_frac in num_fracs.items():\n",
    "            iso = f'{elem.lower()}{a}'\n",
    "            mass_fracs[elem][a] = num_frac * isotopes[iso]\n",
    "\n",
    "        subtotal = sum(mass_fracs[elem].values())\n",
    "        for a in mass_fracs[elem]:\n",
    "            mass_fracs[elem][a] /= subtotal"
   ]
  },
  {
   "cell_type": "code",
   "execution_count": 15,
   "id": "c23f58cc",
   "metadata": {},
   "outputs": [],
   "source": [
    "if False:  # 10/18/2023\n",
    "    for iso in pp_and_cno_extras:\n",
    "        elem, a = get_elem_and_a(iso)\n",
    "\n",
    "        if elem not in lodders03 or a not in lodders03[elem]:\n",
    "            print(iso)"
   ]
  },
  {
   "cell_type": "code",
   "execution_count": 16,
   "id": "f680404f",
   "metadata": {},
   "outputs": [],
   "source": [
    "# this version dumps missing isotopes of existing metals into heaviest\n",
    "\n",
    "def make_mesa_mixture(col: str, initial_y: float = 0.2690, initial_z: float = 0.0187):\n",
    "    initial_x = 1.0 - initial_y - initial_z\n",
    "\n",
    "    for iso in ['h1', 'h2']:\n",
    "        elem, a = get_elem_and_a(iso)\n",
    "        print(iso, initial_x * lodders03[elem][a])\n",
    "\n",
    "    for iso in ['he3', 'he4']:\n",
    "        elem, a = get_elem_and_a(iso)\n",
    "        print(iso, initial_y * lodders03[elem][a])\n",
    "\n",
    "    metals = {}\n",
    "    others = 0.0\n",
    "\n",
    "    for elem, num_fracs in lodders03.items():\n",
    "        if elem in ['H', 'He']: continue\n",
    "\n",
    "        for a, num_frac in num_fracs.items():\n",
    "            iso = f'{elem.lower()}{a}'\n",
    "            mass_frac = 10.0 ** df.at[elem, col] *\\\n",
    "            lodders03[elem][a] * isotopes[iso]\n",
    "\n",
    "            if iso in pp_and_cno_extras:\n",
    "                metals[iso] = mass_frac\n",
    "            else:\n",
    "                others += mass_frac\n",
    "\n",
    "    metals['mg24'] += others\n",
    "    subtotal = sum(metals.values())\n",
    "    for iso in metals:\n",
    "        metals[iso] /= subtotal\n",
    "        metals[iso] *= initial_z\n",
    "        print(iso, metals[iso])"
   ]
  },
  {
   "cell_type": "code",
   "execution_count": 17,
   "id": "7d9fb130",
   "metadata": {},
   "outputs": [
    {
     "name": "stdout",
     "output_type": "stream",
     "text": [
      "h1 0.7122861813799999\n",
      "h2 1.381862e-05\n",
      "he3 4.464593000000001e-05\n",
      "he4 0.26895535407\n",
      "li7 1.071765477222455e-08\n",
      "c12 0.0031814823599887643\n",
      "c13 3.861917646278336e-05\n",
      "n14 0.0009395413045252506\n",
      "n15 3.7001349665027326e-06\n",
      "o16 0.008734474685509457\n",
      "o17 3.4614328704188498e-06\n",
      "o18 1.9708580364796838e-05\n",
      "f19 4.645188427716462e-07\n",
      "ne20 0.001808711060787932\n",
      "mg24 0.00396982602802655\n"
     ]
    }
   ],
   "source": [
    "make_mesa_mixture('GS98')"
   ]
  },
  {
   "cell_type": "code",
   "execution_count": null,
   "id": "321cd5c1",
   "metadata": {},
   "outputs": [],
   "source": []
  }
 ],
 "metadata": {
  "kernelspec": {
   "display_name": "Python 3 (ipykernel)",
   "language": "python",
   "name": "python3"
  },
  "language_info": {
   "codemirror_mode": {
    "name": "ipython",
    "version": 3
   },
   "file_extension": ".py",
   "mimetype": "text/x-python",
   "name": "python",
   "nbconvert_exporter": "python",
   "pygments_lexer": "ipython3",
   "version": "3.11.5"
  }
 },
 "nbformat": 4,
 "nbformat_minor": 5
}
