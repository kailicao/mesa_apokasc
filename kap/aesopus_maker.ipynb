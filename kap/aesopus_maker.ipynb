{
 "cells": [
  {
   "cell_type": "code",
   "execution_count": 1,
   "id": "2447416d",
   "metadata": {},
   "outputs": [],
   "source": [
    "%matplotlib inline\n",
    "import numpy as np\n",
    "import matplotlib.pyplot as plt\n",
    "\n",
    "from aesopus_maker import *\n",
    "# build_full_urls, validate_tables, compile_tables"
   ]
  },
  {
   "cell_type": "code",
   "execution_count": 2,
   "id": "8590bdc7",
   "metadata": {},
   "outputs": [],
   "source": [
    "if False:  # 11/10/2022\n",
    "    display_grid_info()"
   ]
  },
  {
   "cell_type": "code",
   "execution_count": 3,
   "id": "821ba314",
   "metadata": {},
   "outputs": [],
   "source": [
    "if False:  # 11/10/2022\n",
    "    AGSS09 = extract_grid_info('AESOPUS_AGSS09')\n",
    "    GS98   = extract_grid_info('AESOPUS_GS98')\n",
    "    print(AGSS09 == GS98)"
   ]
  },
  {
   "cell_type": "code",
   "execution_count": 4,
   "id": "64b46ba6",
   "metadata": {},
   "outputs": [],
   "source": [
    "test_CFe_NFe_calc = False  # 10/17/2023\n",
    "\n",
    "if test_CFe_NFe_calc:\n",
    "    FeH = np.linspace(-0.45, 0.45, 13)\n",
    "    CFe, NFe = CFe_NFe_calc(FeH)\n",
    "\n",
    "    plt.plot(FeH, CFe, 'o-', label='[C/Fe]')\n",
    "    plt.plot(FeH, NFe, 'o-', label='[N/Fe]')\n",
    "    plt.legend()\n",
    "    plt.show()"
   ]
  },
  {
   "cell_type": "code",
   "execution_count": 5,
   "id": "92b10c4c",
   "metadata": {},
   "outputs": [],
   "source": [
    "do_build_full_urls = False  # 10/17/2023\n",
    "\n",
    "if do_build_full_urls:\n",
    "    grid_info = extract_grid_info()\n",
    "\n",
    "    for AFe in [+0.1, -0.1]:\n",
    "        build_full_urls(grid_info, 'GS98', AFe=round(AFe, 1))\n",
    "\n",
    "    for FeH in np.linspace(-0.45, +0.45, 7):\n",
    "        build_full_urls(grid_info, 'GS98', CNFe=round(FeH+1e-6, 2))"
   ]
  },
  {
   "cell_type": "code",
   "execution_count": 6,
   "id": "3112d92b",
   "metadata": {},
   "outputs": [],
   "source": [
    "do_build_full_urls = True  # 8/6/2024\n",
    "\n",
    "if do_build_full_urls:\n",
    "    grid_info = extract_grid_info()\n",
    "\n",
    "    for FeH in np.linspace(-0.48, +0.48, 7)[:3]:\n",
    "        build_full_urls(grid_info, 'GS98', CNFe=round(FeH+1e-6, 2))"
   ]
  },
  {
   "cell_type": "code",
   "execution_count": 7,
   "id": "882b06a2",
   "metadata": {},
   "outputs": [],
   "source": [
    "Zsun_dict = {\n",
    "    'GS98':         {'Zsun'       : '0.01696',      'C_div_Z_sun': '1.709837E-01',\n",
    "                     'N_div_Z_sun': '5.008508E-02', 'O_div_Z_sun': '4.650221E-01'},\n",
    "    'GS98_A+0.1':   {'Zsun'       : '0.01696',      'C_div_Z_sun': '1.450791E-01',\n",
    "                     'N_div_Z_sun': '4.249703E-02', 'O_div_Z_sun': '4.967339E-01'},\n",
    "    'GS98_CN-0.48': {'Zsun'       : '0.01696',      'C_div_Z_sun': '1.855851E-01',\n",
    "                     'N_div_Z_sun': '4.252681E-02', 'O_div_Z_sun': '4.608174E-01'},\n",
    "    'GS98_CN-0.32': {'Zsun'       : '0.01696',      'C_div_Z_sun': '1.751017E-01',\n",
    "                     'N_div_Z_sun': '4.421016E-02', 'O_div_Z_sun': '4.660710E-01'},\n",
    "    'GS98_CN-0.16': {'Zsun'       : '0.01696',      'C_div_Z_sun': '1.691388E-01',\n",
    "                     'N_div_Z_sun': '4.763904E-02', 'O_div_Z_sun': '4.675838E-01'},\n",
    "    'GS98_CN+0.00': {'Zsun'       : '0.01696',      'C_div_Z_sun': '1.672803E-01',\n",
    "                     'N_div_Z_sun': '5.321431E-02', 'O_div_Z_sun': '4.653649E-01'},\n",
    "    'GS98_CN+0.15': {'Zsun'       : '0.01696',      'C_div_Z_sun': '1.690487E-01',\n",
    "                     'N_div_Z_sun': '6.095904E-02', 'O_div_Z_sun': '4.596855E-01'},\n",
    "    'GS98_CN+0.30': {'Zsun'       : '0.01696',      'C_div_Z_sun': '1.741100E-01',\n",
    "                     'N_div_Z_sun': '7.194777E-02', 'O_div_Z_sun': '4.501037E-01'},\n",
    "    'GS98_CN+0.45': {'Zsun'       : '0.01696',      'C_div_Z_sun': '1.823910E-01',\n",
    "                     'N_div_Z_sun': '8.731512E-02', 'O_div_Z_sun': '4.359856E-01'},\n",
    "    }"
   ]
  },
  {
   "cell_type": "code",
   "execution_count": 8,
   "id": "0d41223f",
   "metadata": {},
   "outputs": [],
   "source": [
    "def CO_NO_calc(variation):\n",
    "    C_ratio = float(Zsun_dict[variation]['C_div_Z_sun']) / float(Zsun_dict['GS98']['C_div_Z_sun'])\n",
    "    N_ratio = float(Zsun_dict[variation]['N_div_Z_sun']) / float(Zsun_dict['GS98']['N_div_Z_sun'])\n",
    "    O_ratio = float(Zsun_dict[variation]['O_div_Z_sun']) / float(Zsun_dict['GS98']['O_div_Z_sun'])\n",
    "    return np.log10(C_ratio / O_ratio), np.log10(N_ratio / O_ratio)"
   ]
  },
  {
   "cell_type": "code",
   "execution_count": 9,
   "id": "12629489",
   "metadata": {},
   "outputs": [
    {
     "name": "stdout",
     "output_type": "stream",
     "text": [
      "GS98_A+0.1 (-0.10000006470924631, -0.09999999904878518)\n",
      "GS98_CN-0.48 (0.039533118305360375, -0.06710084113227681) (0.039533200000000004, -0.06710080000000002)\n",
      "GS98_CN-0.32 (0.009357163837717588, -0.05516477306594057) (0.009357200000000005, -0.055164800000000014)\n",
      "GS98_CN-0.16 (-0.007097328745598985, -0.024131233641656685) (-0.007097199999999999, -0.024131200000000002)\n",
      "GS98_CN+0.00 (-0.009829942685532184, 0.026000032869669128) (-0.00983, 0.026)\n",
      "GS98_CN+0.15 (6.991277136462955e-05, 0.09034253537207383) (6.999999999999888e-05, 0.09034249999999999)\n",
      "GS98_CN+0.30 (0.022030014825577694, 0.1714699759156739) (0.02203, 0.17146999999999998)\n",
      "GS98_CN+0.45 (0.0560501414030197, 0.26938253110576327) (0.05605000000000001, 0.2693825)\n"
     ]
    }
   ],
   "source": [
    "print('GS98_A+0.1', CO_NO_calc('GS98_A+0.1'))\n",
    "\n",
    "for variation in Zsun_dict:\n",
    "    if variation.startswith('GS98_CN'):\n",
    "        print(variation, CO_NO_calc(variation), CFe_NFe_calc(float(variation[7:])))"
   ]
  },
  {
   "cell_type": "code",
   "execution_count": 10,
   "id": "a2cf0fdb",
   "metadata": {},
   "outputs": [],
   "source": [
    "test_compile_tables = True  # 10/17/2023, 8/6/2024\n",
    "\n",
    "if test_compile_tables:\n",
    "    for k, v in Zsun_dict.items():\n",
    "        if k == 'GS98': continue\n",
    "        compile_tables(suffix=k, Zsun_dict=v)"
   ]
  },
  {
   "cell_type": "code",
   "execution_count": 11,
   "id": "ad75b215",
   "metadata": {},
   "outputs": [],
   "source": [
    "import urllib\n",
    "\n",
    "OP_GS98 = {'C': 8.52, 'N': 7.92, 'O': 8.83, 'Ne': 8.08, 'Na': 6.33, 'Mg': 7.58,\n",
    "           'Al': 6.49, 'Si': 7.56, 'P': 5.56, 'S': 7.2, 'Cl': 5.28, 'Ar': 6.4,\n",
    "           'K': 5.13, 'Ca': 6.35, 'Ti': 4.94, 'Cr': 5.69, 'Mn': 5.53, 'Fe': 7.5, 'Ni': 6.25}\n",
    "OP_SERVER = 'https://opacity-cs.obspm.fr/opacity/Test1'\n",
    "\n",
    "def build_OP_url(AFe: float | None = None, CNFe: float | None = None):\n",
    "    if CNFe is not None:\n",
    "        CFe, NFe = CFe_NFe_calc(CNFe)\n",
    "\n",
    "    data = {'email': 'cao.1191@osu.edu'}\n",
    "    for elem in OP_GS98:\n",
    "        if CNFe is not None and elem == 'C':\n",
    "            data[elem] = f'{OP_GS98[elem]+CFe:.3f}'\n",
    "        elif CNFe is not None and elem == 'N':\n",
    "            data[elem] = f'{OP_GS98[elem]+NFe:.3f}'\n",
    "\n",
    "        elif AFe is not None and elem in ['O', 'Ne', 'Mg', 'Si', 'S', 'Ar', 'Ca']:\n",
    "            data[elem] = f'{OP_GS98[elem]+AFe:.3f}'\n",
    "        else:\n",
    "            data[elem] = f'{OP_GS98[elem]:.3f}'\n",
    "\n",
    "    url_values = urllib.parse.urlencode(data)\n",
    "    full_url = OP_SERVER + '?' + url_values\n",
    "    return full_url"
   ]
  },
  {
   "cell_type": "code",
   "execution_count": 12,
   "id": "6be1626a",
   "metadata": {},
   "outputs": [],
   "source": [
    "with open('op_urls.txt', 'w') as f:\n",
    "    f.write(build_OP_url(AFe=0.1) + '\\n'*2)\n",
    "\n",
    "    for FeH in np.linspace(-0.48, +0.48, 7)[:3]:\n",
    "        f.write(build_OP_url(CNFe=FeH) + '\\n'*2)\n",
    "    for FeH in np.linspace(-0.45, +0.45, 7)[3:]:\n",
    "        f.write(build_OP_url(CNFe=FeH) + '\\n'*2)"
   ]
  },
  {
   "cell_type": "code",
   "execution_count": null,
   "id": "429bd6da",
   "metadata": {},
   "outputs": [],
   "source": []
  }
 ],
 "metadata": {
  "kernelspec": {
   "display_name": "Python 3 (ipykernel)",
   "language": "python",
   "name": "python3"
  },
  "language_info": {
   "codemirror_mode": {
    "name": "ipython",
    "version": 3
   },
   "file_extension": ".py",
   "mimetype": "text/x-python",
   "name": "python",
   "nbconvert_exporter": "python",
   "pygments_lexer": "ipython3",
   "version": "3.11.9"
  }
 },
 "nbformat": 4,
 "nbformat_minor": 5
}
